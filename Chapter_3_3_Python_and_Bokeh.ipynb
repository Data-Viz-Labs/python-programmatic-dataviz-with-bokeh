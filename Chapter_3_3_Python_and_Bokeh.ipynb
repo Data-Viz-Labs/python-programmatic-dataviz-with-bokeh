{
  "nbformat": 4,
  "nbformat_minor": 0,
  "metadata": {
    "colab": {
      "provenance": []
    },
    "kernelspec": {
      "name": "python3",
      "display_name": "Python 3"
    },
    "language_info": {
      "name": "python"
    }
  },
  "cells": [
    {
      "cell_type": "markdown",
      "source": [
        "# Bokeh@3\n"
      ],
      "metadata": {
        "id": "F3eEwsp9pTm2"
      }
    },
    {
      "cell_type": "markdown",
      "source": [
        "Required dependencies\n",
        "\n",
        "```python\n",
        "bokeh==3.6.2\n",
        "bokeh_sampledata==2024.2\n",
        "numpy==1.26.4\n",
        "yfinance==0.2.52\n",
        "```\n"
      ],
      "metadata": {
        "id": "6FNay8sJpZaN"
      }
    },
    {
      "cell_type": "code",
      "execution_count": null,
      "metadata": {
        "id": "KQIOn91fpEA0"
      },
      "outputs": [],
      "source": [
        "!pip install bokeh_sampledata"
      ]
    },
    {
      "cell_type": "code",
      "source": [
        "!pip freeze | grep -e bokeh -e yfinance -e numpy -e bokeh_sampledata -e networkx"
      ],
      "metadata": {
        "id": "AS7M1-C1Ea9F"
      },
      "execution_count": null,
      "outputs": []
    },
    {
      "cell_type": "code",
      "source": [
        "# Basic\n",
        "from bokeh.plotting import figure, show\n",
        "from bokeh.plotting import save, output_file\n",
        "from bokeh.io import output_notebook, reset_output\n",
        "\n",
        "# Visual fine tunning\n",
        "from bokeh.models import ColumnDataSource, TabPanel, Tabs, Tooltip, HoverTool\n",
        "from bokeh.models import MultiLine, Scatter\n",
        "from bokeh.layouts import gridplot, column, row\n",
        "from bokeh.transform import factor_cmap\n",
        "\n",
        "# UI\n",
        "from bokeh.models.widgets import Button, RadioButtonGroup, Select, Slider\n",
        "from bokeh.models import CustomJS, TextInput\n",
        "from bokeh.palettes import Category20_20\n",
        "\n",
        "# Addons\n",
        "import networkx as nx\n",
        "from bokeh.plotting import figure, from_networkx, show\n",
        "\n",
        "# Data import & manipulating\n",
        "from pyproj import Transformer\n",
        "from datetime import datetime, timedelta\n",
        "from bokeh.sampledata.penguins import data\n",
        "import yfinance as yf\n",
        "import pandas as pd\n",
        "import numpy as np\n",
        "import decorator\n",
        "import requests\n",
        "\n",
        "output_notebook()"
      ],
      "metadata": {
        "id": "0tx0mb93pQzG"
      },
      "execution_count": null,
      "outputs": []
    },
    {
      "cell_type": "code",
      "source": [
        "# prepare some data\n",
        "x = [0.1, 0.5, 1.0, 1.5, 2.0, 2.5, 3.0]\n",
        "y0 = [i**2 for i in x]\n",
        "y1 = [10**i for i in x]\n",
        "y2 = [10**(i**2) for i in x]"
      ],
      "metadata": {
        "id": "VIlADmZrqXXr"
      },
      "execution_count": null,
      "outputs": []
    },
    {
      "cell_type": "code",
      "source": [
        "# Define the plot\n",
        "p = figure(\n",
        "   tools=\"pan,box_zoom,reset,save\",\n",
        "   y_axis_type=\"log\", y_range=[0.001, 10**11], title=\"log axis example\",\n",
        "   x_axis_label='sections', y_axis_label='particles'\n",
        ")\n",
        "\n",
        "# Add renderers\n",
        "p.line(x, x, legend_label=\"y=x\")\n",
        "p.scatter(x, x, legend_label=\"y=x\", fill_color=\"white\", size=8)\n",
        "p.line(x, y0, legend_label=\"y=x^2\", line_width=3)\n",
        "p.line(x, y1, legend_label=\"y=10^x\", line_color=\"red\")\n",
        "p.scatter(x, y1, legend_label=\"y=10^x\", fill_color=\"red\", line_color=\"red\", size=6)\n",
        "p.line(x, y2, legend_label=\"y=10^x^2\", line_color=\"orange\", line_dash=\"4 4\")\n",
        "\n",
        "# Render to file\n",
        "#output_file(\"file.html\",\"This is my first plot on HTML\", mode=\"inline\")\n",
        "#show(p)"
      ],
      "metadata": {
        "id": "fX5fZHIlpQ17"
      },
      "execution_count": null,
      "outputs": []
    },
    {
      "cell_type": "code",
      "source": [
        "# Reference: https://github.com/bokeh/bokeh/issues/8579#issuecomment-499708967\n",
        "\n",
        "show(p)  # happily plots inline in notebook\n",
        "\n",
        "output_file('plot_in_file.html')\n",
        "save(p)  # joyfully packages the plot and saves it as expected"
      ],
      "metadata": {
        "id": "KofAYnGqxm5B"
      },
      "execution_count": null,
      "outputs": []
    },
    {
      "cell_type": "code",
      "source": [
        "# Look at file in collab files (right toolbar icon-folder)\n",
        "!cat /content/plot_in_file.html"
      ],
      "metadata": {
        "collapsed": true,
        "id": "bEP38zvLpQ47"
      },
      "execution_count": null,
      "outputs": []
    },
    {
      "cell_type": "markdown",
      "source": [
        "Use tools"
      ],
      "metadata": {
        "id": "dKJNeJnuzG3F"
      }
    },
    {
      "cell_type": "code",
      "source": [
        "import numpy as np\n",
        "\n",
        "from bokeh.plotting import figure, output_file\n",
        "from bokeh.io import output_notebook, show\n",
        "output_notebook()\n",
        "\n",
        "# prepare some data\n",
        "N = 4000\n",
        "x = np.random.random(size=N) * 100\n",
        "y = np.random.random(size=N) * 100\n",
        "radii = np.random.random(size=N) * 1.5\n",
        "colors = [\"#%02x%02x%02x\" % (int(r), int(g), 150) for r, g in zip(50+2*x, 30+2*y)]\n",
        "\n",
        "TOOLS = \"crosshair,pan,wheel_zoom,box_zoom,reset,box_select,lasso_select\"\n",
        "p = figure(tools=TOOLS, x_range=(0, 100), y_range=(0, 100))\n",
        "p.circle(x, y, radius=radii, fill_color=colors, fill_alpha=0.6, line_color=None)\n",
        "show(p)"
      ],
      "metadata": {
        "id": "jzRMgTYYpRJg"
      },
      "execution_count": null,
      "outputs": []
    },
    {
      "cell_type": "markdown",
      "source": [
        "Scatter Plots"
      ],
      "metadata": {
        "id": "nKepwRadzIA4"
      }
    },
    {
      "cell_type": "code",
      "source": [
        "from bokeh.plotting import figure, output_file, show\n",
        "import numpy as np\n",
        "\n",
        "x=np.random.normal(5, 5, size=100)\n",
        "y=np.random.randint(10, 15, size=100)\n",
        "\n",
        "x2=np.random.normal(5, 5, size=100)\n",
        "y2=np.random.normal(5, 1.5, size=100)\n",
        "\n",
        "p = figure(width=400, height=400)\n",
        "p.scatter(x, y, size=5, color=\"navy\", alpha=0.5)\n",
        "p.scatter(x2, y2, size=5, marker='square', color=\"crimson\", alpha=0.5)\n",
        "show(p)"
      ],
      "metadata": {
        "id": "tUW7vOHvzIMr"
      },
      "execution_count": null,
      "outputs": []
    },
    {
      "cell_type": "markdown",
      "source": [
        "Line Plots"
      ],
      "metadata": {
        "id": "HgFVE0jhzISw"
      }
    },
    {
      "cell_type": "code",
      "source": [
        "# Create a second figure for the numpy array data\n",
        "p2 = figure(width=800, height=400)\n",
        "\n",
        "# Add the numpy array data\n",
        "x = np.array([1, 2, 3, 4, 5])\n",
        "y = np.array([16, 17, 12, 14, 15])\n",
        "p2.line(x, y, line_width=2, color=\"green\", legend_label=\"Array Data\")\n",
        "\n",
        "# Show both plots\n",
        "show(p2)"
      ],
      "metadata": {
        "id": "EV6rbfi1z8Hz"
      },
      "execution_count": null,
      "outputs": []
    },
    {
      "cell_type": "code",
      "source": [
        "# Define the date range\n",
        "end_date = datetime.today().strftime('%Y-%m-%d')\n",
        "start_date = (datetime.today() - timedelta(days=5*365)).strftime('%Y-%m-%d')\n",
        "\n",
        "# Fetch the data\n",
        "ticker = 'AAPL'\n",
        "df = yf.download(ticker, start=start_date, end=end_date)\n",
        "\n",
        "# Create the figure with datetime x-axis\n",
        "p = figure(width=800, height=400, x_axis_type=\"datetime\", title=ticker)\n",
        "\n",
        "# Add the stock data lines\n",
        "p.line(df.index, df['Close'], line_width=2, color=\"blue\", legend_label=\"Close\")\n",
        "p.step(df.index, df['Low'], line_width=2, mode=\"center\", color=\"magenta\", legend_label=\"Low\")\n",
        "\n",
        "# Render\n",
        "show(p)"
      ],
      "metadata": {
        "id": "y0q769wuzIXF"
      },
      "execution_count": null,
      "outputs": []
    },
    {
      "cell_type": "markdown",
      "source": [
        "Bar plots"
      ],
      "metadata": {
        "id": "-aec7NugzIbK"
      }
    },
    {
      "cell_type": "code",
      "source": [
        "p = figure(width=400, height=400)\n",
        "p.vbar(x=[1, 2, 3], width=0.3, bottom=0, top=[1.2, 2.5, 3.7], color=\"hotpink\")\n",
        "p.hbar(y=[1, 2, 3], height=0.4, left=0, right=[1.2, 2.5, 3.7], color=\"skyblue\")\n",
        "show(p)"
      ],
      "metadata": {
        "id": "GA3J-OmOzIfR"
      },
      "execution_count": null,
      "outputs": []
    },
    {
      "cell_type": "markdown",
      "source": [
        "Combining Glyphs"
      ],
      "metadata": {
        "id": "wkCzno5gzIiq"
      }
    },
    {
      "cell_type": "code",
      "source": [
        "from bokeh.plotting import figure\n",
        "from bokeh.io import output_notebook, show\n",
        "import numpy as np\n",
        "\n",
        "x = np.array([1, 2, 3, 4, 5])\n",
        "y = np.array([6, 7, 8, 7, 3])\n",
        "\n",
        "p = figure(width=400, height=400)\n",
        "\n",
        "p.line(x, y, line_width=2)\n",
        "#p.circle(x, y, fill_color=\"white\", size=8)   # Bokeh 2.0\n",
        "p.scatter(x, y, fill_color=\"white\", size=8)   # Bokeh 3.0\n",
        "p.vbar(x, width=0.5, bottom=0, top=y-1, color=\"forestgreen\")\n",
        "\n",
        "show(p)"
      ],
      "metadata": {
        "id": "5tHetH_KzIm6"
      },
      "execution_count": null,
      "outputs": []
    },
    {
      "cell_type": "markdown",
      "source": [
        "Using Palettes"
      ],
      "metadata": {
        "id": "6oCv06OE7PG7"
      }
    },
    {
      "cell_type": "code",
      "source": [
        "from bokeh.io import show\n",
        "from bokeh.palettes import Turbo256\n",
        "from bokeh.plotting import figure\n",
        "from bokeh.transform import linear_cmap\n",
        "\n",
        "# generate data\n",
        "x = list(range(-32, 33))\n",
        "y = [i**2 for i in x]\n",
        "\n",
        "# create linear color mapper\n",
        "mapper = linear_cmap(field_name=\"y\", palette=Turbo256, low=min(y), high=max(y))\n",
        "\n",
        "# create plot\n",
        "p = figure(width=500, height=250)\n",
        "\n",
        "# create circle renderer with color mapper\n",
        "p.scatter(x, y, color=mapper, size=10)\n",
        "\n",
        "show(p)"
      ],
      "metadata": {
        "id": "JmvswbBT5OgX"
      },
      "execution_count": null,
      "outputs": []
    },
    {
      "cell_type": "markdown",
      "source": [
        "Layouts & Combinations"
      ],
      "metadata": {
        "id": "uylt0aTfzIqf"
      }
    },
    {
      "cell_type": "code",
      "source": [
        "def plot1():\n",
        "    x=np.array([1, 2, 3, 4, 5])\n",
        "    y=np.array([16, 17, 12, 14, 15])\n",
        "\n",
        "    # Define the date range\n",
        "    end_date = datetime.today().strftime('%Y-%m-%d')\n",
        "    start_date = (datetime.today() - timedelta(days=5*365)).strftime('%Y-%m-%d')\n",
        "\n",
        "    df = yf.download('AAPL', start=start_date, end=end_date)\n",
        "    p = figure(width=200, height=200,x_axis_type=\"datetime\")\n",
        "    p.line(df.index, df['Close'], line_width=2, color=\"blue\", legend_label=\"Close\")\n",
        "    p.step(df.index, df['Low'], line_width=2, mode=\"center\", color=\"magenta\", legend_label=\"Low\")\n",
        "\n",
        "    return p\n",
        "\n",
        "def plot2():\n",
        "    p = figure(width=200, height=200)\n",
        "    p.vbar(x=[1, 2, 3], width=0.3, bottom=0,top=[1.2, 2.5, 3.7], color=\"hotpink\")\n",
        "    p.hbar(y=[1, 2, 3], height=0.4, left=0,right=[1.2, 2.5, 3.7], color=\"skyblue\")\n",
        "    return p\n",
        "\n",
        "def plot3():\n",
        "    x = np.array([1, 2, 3, 4, 5])\n",
        "    y = np.array([6, 7, 8, 7, 3])\n",
        "    p = figure(width=200, height=200)\n",
        "    p.line(x, y, line_width=2)\n",
        "    p.scatter(x, y, fill_color=\"white\", size=8)\n",
        "    p.vbar(x, width=0.5, bottom=0,top=y-1, color=\"forestgreen\")\n",
        "    return p\n",
        "\n",
        "# local debug :)\n",
        "#show(plot1())\n",
        "#show(plot2())\n",
        "#show(plot3())"
      ],
      "metadata": {
        "id": "qOUgRj4-zIuS"
      },
      "execution_count": null,
      "outputs": []
    },
    {
      "cell_type": "code",
      "source": [
        "p1=plot1()\n",
        "p2=plot2()\n",
        "p3=plot3()\n",
        "\n",
        "show(column(p1, p2, p3))\n",
        "\n",
        "# Or simply\n",
        "# show(column(plot1(), plot3(), plot2()))"
      ],
      "metadata": {
        "id": "1LLbTFZk1iVa"
      },
      "execution_count": null,
      "outputs": []
    },
    {
      "cell_type": "code",
      "source": [
        "p1=plot1()\n",
        "p2=plot2()\n",
        "p3=plot3()\n",
        "\n",
        "show(row(p1, p2, p3))"
      ],
      "metadata": {
        "id": "7T8I-7a21iYn"
      },
      "execution_count": null,
      "outputs": []
    },
    {
      "cell_type": "markdown",
      "source": [
        "Grid Layout"
      ],
      "metadata": {
        "id": "Wkzpv9Z5zIxj"
      }
    },
    {
      "cell_type": "code",
      "source": [
        "# create three plots\n",
        "p1 = plot1()\n",
        "p2 = plot2()\n",
        "p3 = plot3()\n",
        "\n",
        "# make a grid\n",
        "grid = gridplot([[p1, p2], [None, p3]])\n",
        "\n",
        "# show the results\n",
        "show(grid)"
      ],
      "metadata": {
        "id": "m5YbSPch1WDm"
      },
      "execution_count": null,
      "outputs": []
    },
    {
      "cell_type": "markdown",
      "source": [
        "Widgets & UI"
      ],
      "metadata": {
        "id": "WguIIJ4W1WMq"
      }
    },
    {
      "cell_type": "code",
      "source": [
        "# create some widgets\n",
        "slider = Slider(start=0, end=10, value=1, step=.1, title=\"Slider\")\n",
        "button_group = RadioButtonGroup(labels=[\"one\", \"two\", \"three\"], active=0)\n",
        "select = Select(title=\"Option:\", value=\"foo\", options=[\"one\", \"two\", \"three\", \"four\"])\n",
        "button_1 = Button(label=\"Button 1\")\n",
        "button_2 = Button(label=\"Button 2\")\n",
        "\n",
        "show(column(button_1, slider, button_group, select, button_2, width=300))"
      ],
      "metadata": {
        "id": "iyQ6pfmk1WQ9"
      },
      "execution_count": null,
      "outputs": []
    },
    {
      "cell_type": "code",
      "source": [
        "p1 = figure(width=300, height=300)\n",
        "p1.scatter([1, 2, 3, 4, 5], [6, 7, 2, 4, 5], size=20, color=\"navy\", alpha=0.5)\n",
        "\n",
        "p2 = figure(width=300, height=300)\n",
        "p2.line([1, 2, 3, 4, 5], [6, 7, 2, 4, 5], line_width=3, color=\"navy\", alpha=0.5)\n",
        "\n",
        "p3 = figure(width=300, height=300)\n",
        "p3.scatter([1, 2, 3, 4, 5], [6, 7, 2, 4, 5], size=20, color=\"navy\", alpha=0.5)\n",
        "\n",
        "p4 = figure(width=300, height=300)\n",
        "p4.line([1, 2, 3, 4, 5], [6, 7, 2, 4, 5], line_width=3, color=\"navy\", alpha=0.5)\n",
        "\n",
        "tabs1 = Tabs(tabs=[\n",
        "    TabPanel(child=p1, title=\"circle\", tooltip=Tooltip(content=\"This is the first tab.\", position=\"bottom_center\")),\n",
        "    TabPanel(child=p2, title=\"line\", tooltip=Tooltip(content=\"This is the second tab.\", position=\"bottom_center\")),\n",
        "])\n",
        "\n",
        "show(tabs1)"
      ],
      "metadata": {
        "id": "LVIpLijM42qp"
      },
      "execution_count": null,
      "outputs": []
    },
    {
      "cell_type": "code",
      "source": [
        "text_input = TextInput(value=\"default\", title=\"Label:\")\n",
        "text_input.js_on_change(\"value\", CustomJS(code=\"\"\"\n",
        "    alert('text_input: value=' + this.value, this.toString())\n",
        "    console.log('text_input: value=' + this.value, this.toString())\n",
        "\"\"\"))\n",
        "\n",
        "show(text_input)\n",
        "# now, change the text and press Enter"
      ],
      "metadata": {
        "id": "KWnZcenG42tj"
      },
      "execution_count": null,
      "outputs": []
    },
    {
      "cell_type": "code",
      "source": [
        "# Not reversible! Look at browser DevTools\n",
        "text_input.value"
      ],
      "metadata": {
        "id": "ngLbq03N42zB"
      },
      "execution_count": null,
      "outputs": []
    },
    {
      "cell_type": "markdown",
      "source": [
        "Linked Panning"
      ],
      "metadata": {
        "id": "lcraoYUU1WVJ"
      }
    },
    {
      "cell_type": "code",
      "source": [
        "# Define el rango de fechas\n",
        "end_date = datetime.today().strftime('%Y-%m-%d')\n",
        "start_date = (datetime.today() - timedelta(days=2*365)).strftime('%Y-%m-%d')\n",
        "\n",
        "# Lista de símbolos de acciones automotrices\n",
        "symbols = ['TSLA', 'TM', 'F']  # Tesla, Toyota, Ford\n",
        "\n",
        "# Descarga datos para cada símbolo\n",
        "dfs = {}\n",
        "for symbol in symbols:\n",
        "    dfs[symbol] = yf.download(symbol, start=start_date, end=end_date)\n",
        "\n",
        "# Crear los tres gráficos\n",
        "s1 = figure(width=400, height=250, x_axis_type=\"datetime\", title=\"Tesla\")\n",
        "s1.scatter(dfs['TSLA'].index, dfs['TSLA']['Close'], size=8, color=\"navy\", alpha=0.5)\n",
        "\n",
        "s2 = figure(width=400, height=250, y_range=s1.y_range, x_axis_type=\"datetime\", title=\"Toyota\")\n",
        "s2.scatter(dfs['TM'].index, dfs['TM']['Close'], size=8, marker=\"triangle\", color=\"firebrick\", alpha=0.5)\n",
        "\n",
        "s3 = figure(width=400, height=250, y_range=s1.y_range, x_axis_type=\"datetime\", title=\"Ford\")\n",
        "s3.scatter(dfs['F'].index, dfs['F']['Close'], size=8, marker=\"square\", color=\"olive\", alpha=0.5)\n",
        "\n",
        "# Configuración adicional de los gráficos\n",
        "for s in [s1, s2, s3]:\n",
        "    s.xaxis.axis_label = 'Fecha'\n",
        "    s.yaxis.axis_label = 'Precio de cierre ($)'\n",
        "\n",
        "# Crear el grid de gráficos\n",
        "p = gridplot([[s1, s2, s3]], toolbar_location=\"right\")\n",
        "\n",
        "# Mostrar el resultado\n",
        "show(p)"
      ],
      "metadata": {
        "id": "oCjmFs_H1WZY"
      },
      "execution_count": null,
      "outputs": []
    },
    {
      "cell_type": "markdown",
      "source": [
        "Linked selections"
      ],
      "metadata": {
        "id": "Opyy-d1E1Wcz"
      }
    },
    {
      "cell_type": "code",
      "source": [
        "# This example uses aditional library: bokeh_sampledata\n",
        "# Do not forget to run pip install\n",
        "\n",
        "SPECIES = sorted(data.species.unique())\n",
        "TOOLS = \"box_select,lasso_select,help\"\n",
        "source = ColumnDataSource(data)\n",
        "\n",
        "left = figure(width=300, height=400, title=None, tools=TOOLS,background_fill_color=\"#fafafa\")\n",
        "left.scatter(\"bill_length_mm\", \"body_mass_g\", source=source,color=factor_cmap('species', 'Category10_3', SPECIES))\n",
        "\n",
        "right = figure(width=300, height=400, title=None, tools=TOOLS,background_fill_color=\"#fafafa\", y_axis_location=\"right\")\n",
        "right.scatter(\"bill_depth_mm\", \"body_mass_g\", source=source,color=factor_cmap('species', 'Category10_3', SPECIES))\n",
        "\n",
        "show(gridplot([[left, right]]))"
      ],
      "metadata": {
        "id": "f8VVBd2h1Wge"
      },
      "execution_count": null,
      "outputs": []
    },
    {
      "cell_type": "markdown",
      "source": [
        "Hover tools"
      ],
      "metadata": {
        "id": "qQiWcuHd1Wj1"
      }
    },
    {
      "cell_type": "code",
      "source": [
        "# Fetch the data\n",
        "ticker = 'AMZN'\n",
        "end_date = datetime.today().strftime('%Y-%m-%d')\n",
        "start_date = (datetime.today() - timedelta(days=5*365)).strftime('%Y-%m-%d')\n",
        "df = yf.download(ticker, start=start_date, end=end_date)\n",
        "\n",
        "source = ColumnDataSource(\n",
        "        data=dict(\n",
        "            x=df.index,\n",
        "            y=df[\"Close\"],\n",
        "            high=df[\"High\"],\n",
        "            volume=df[\"Volume\"],\n",
        "        )\n",
        "    )\n",
        "\n",
        "hover = HoverTool(\n",
        "        tooltips=[\n",
        "            (\"index\", \"$index\"),\n",
        "            (\"company\", \"Apple\"),\n",
        "            (\"Date\", \"@x{%F}\"),\n",
        "            (\"Close\",\"$y\"),\n",
        "            (\"High\",\"@high\"),\n",
        "            (\"Volume\",\"@volume\"),\n",
        "        ],\n",
        "        formatters={\"x\":\"datetime\"}\n",
        "    )\n",
        "\n",
        "p = figure(width=600, height=300, x_axis_type=\"datetime\",tools=[hover], title=\"Mouse over the dots\")\n",
        "p.line('x','y', source=source)\n",
        "\n",
        "show(p)"
      ],
      "metadata": {
        "id": "XbPiKUDS1Wod"
      },
      "execution_count": null,
      "outputs": []
    },
    {
      "cell_type": "markdown",
      "source": [
        "Addons: Network"
      ],
      "metadata": {
        "id": "_0swZIA01WsH"
      }
    },
    {
      "cell_type": "code",
      "source": [
        "G = nx.desargues_graph() # always 20 nodes\n",
        "\n",
        "p = figure(x_range=(-2, 2), y_range=(-2, 2),\n",
        "           x_axis_location=None, y_axis_location=None,\n",
        "           tools=\"hover\", tooltips=\"index: @index\")\n",
        "\n",
        "p.grid.grid_line_color = None\n",
        "graph = from_networkx(G, nx.spring_layout, scale=1.8, center=(0,0))\n",
        "p.renderers.append(graph)\n",
        "\n",
        "# Add some new columns to the node renderer data source\n",
        "graph.node_renderer.data_source.data['index'] = list(range(len(G)))\n",
        "graph.node_renderer.data_source.data['colors'] = Category20_20\n",
        "\n",
        "graph.node_renderer.glyph.update(size=20, fill_color=\"colors\")\n",
        "\n",
        "show(p)"
      ],
      "metadata": {
        "id": "NCwZcWTp1W15"
      },
      "execution_count": null,
      "outputs": []
    },
    {
      "cell_type": "markdown",
      "source": [],
      "metadata": {
        "id": "-Qivmnvy1W6O"
      }
    },
    {
      "cell_type": "code",
      "source": [
        "G = nx.karate_club_graph()\n",
        "\n",
        "SAME_CLUB_COLOR, DIFFERENT_CLUB_COLOR = \"darkgrey\", \"red\"\n",
        "\n",
        "edge_attrs = {}\n",
        "for start_node, end_node, _ in G.edges(data=True):\n",
        "    edge_color = SAME_CLUB_COLOR if G.nodes[start_node][\"club\"] == G.nodes[end_node][\"club\"] else DIFFERENT_CLUB_COLOR\n",
        "    edge_attrs[(start_node, end_node)] = edge_color\n",
        "\n",
        "nx.set_edge_attributes(G, edge_attrs, \"edge_color\")\n",
        "\n",
        "plot = figure(width=400, height=400, x_range=(-1.2, 1.2), y_range=(-1.2, 1.2),\n",
        "              x_axis_location=None, y_axis_location=None, toolbar_location=None,\n",
        "              title=\"Graph Interaction Demo\", background_fill_color=\"#efefef\",\n",
        "              tooltips=\"index: @index, club: @club\")\n",
        "plot.grid.grid_line_color = None\n",
        "\n",
        "graph_renderer = from_networkx(G, nx.spring_layout, scale=1, center=(0, 0))\n",
        "graph_renderer.node_renderer.glyph = Scatter(size=15, fill_color=\"lightblue\")\n",
        "graph_renderer.edge_renderer.glyph = MultiLine(line_color=\"edge_color\",line_alpha=1, line_width=2)\n",
        "plot.renderers.append(graph_renderer)\n",
        "\n",
        "show(plot)"
      ],
      "metadata": {
        "id": "vVCenocp1W-S"
      },
      "execution_count": null,
      "outputs": []
    },
    {
      "cell_type": "markdown",
      "source": [
        "Geographical data"
      ],
      "metadata": {
        "id": "qXUFJXqV1XB8"
      }
    },
    {
      "cell_type": "code",
      "source": [
        "# Tu API key de OpenCage (necesitas registrarte para obtener una gratuita) > https://opencagedata.com/\n",
        "api_key = ''\n",
        "\n",
        "# Lista de ciudades para mostrar\n",
        "cities = ['Madrid', 'Barcelona', 'Valencia', 'Sevilla', 'Bilbao']"
      ],
      "metadata": {
        "id": "c7LzxZiXHeqF"
      },
      "execution_count": null,
      "outputs": []
    },
    {
      "cell_type": "code",
      "source": [
        "def get_coordinates(city, api_key):\n",
        "    \"\"\"Obtiene las coordenadas de una ciudad usando OpenCage API\"\"\"\n",
        "    base_url = \"https://api.opencagedata.com/geocode/v1/json\"\n",
        "    params = {\n",
        "        'q': city,\n",
        "        'key': api_key,\n",
        "        'limit': 1\n",
        "    }\n",
        "\n",
        "    response = requests.get(base_url, params=params)\n",
        "    if response.status_code == 200:\n",
        "        result = response.json()\n",
        "        if result['results']:\n",
        "            location = result['results'][0]['geometry']\n",
        "            return location['lng'], location['lat']\n",
        "    return None\n",
        "\n",
        "# Obtener coordenadas para cada ciudad\n",
        "coordinates = []\n",
        "names = []\n",
        "for city in cities:\n",
        "    coords = get_coordinates(city, api_key)\n",
        "    if coords:\n",
        "        coordinates.append(coords)\n",
        "        names.append(city)\n",
        "\n",
        "# Convertir coordenadas a Web Mercator\n",
        "transformer = Transformer.from_crs(\"EPSG:4326\", \"EPSG:3857\", always_xy=True)\n",
        "x_coords, y_coords = zip(*[transformer.transform(lon, lat) for lon, lat in coordinates])"
      ],
      "metadata": {
        "id": "_EwHu2m5HGQE"
      },
      "execution_count": null,
      "outputs": []
    },
    {
      "cell_type": "code",
      "source": [
        "# Crear source para Bokeh\n",
        "source = ColumnDataSource(data={\n",
        "    'x': x_coords,\n",
        "    'y': y_coords,\n",
        "    'name': names\n",
        "})\n",
        "\n",
        "# Crear figura\n",
        "p = figure(x_range=(-2000000, 2000000),\n",
        "           y_range=(1000000, 7000000),\n",
        "           x_axis_type=\"mercator\",\n",
        "           y_axis_type=\"mercator\",\n",
        "           title=\"Principales ciudades de España\")\n",
        "\n",
        "# Añadir mapa base\n",
        "p.add_tile(\"CartoDB Positron\", retina=True)\n",
        "\n",
        "# Añadir puntos para las ciudades\n",
        "p.scatter('x', 'y', size=10, fill_color='red', fill_alpha=0.8, source=source)\n",
        "\n",
        "# Añadir hover tool\n",
        "hover = HoverTool(tooltips=[('Ciudad', '@name'),])\n",
        "p.add_tools(hover)\n",
        "\n",
        "# Mostrar el mapa\n",
        "show(p)"
      ],
      "metadata": {
        "id": "JoqKSmqn1XFP"
      },
      "execution_count": null,
      "outputs": []
    }
  ]
}