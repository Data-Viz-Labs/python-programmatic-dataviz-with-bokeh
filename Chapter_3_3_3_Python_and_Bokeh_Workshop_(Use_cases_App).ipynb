{
  "nbformat": 4,
  "nbformat_minor": 0,
  "metadata": {
    "colab": {
      "provenance": []
    },
    "kernelspec": {
      "name": "python3",
      "display_name": "Python 3"
    },
    "language_info": {
      "name": "python"
    }
  },
  "cells": [
    {
      "cell_type": "markdown",
      "source": [
        "Dashboard Tutorial con Bokeh\n",
        "==========================\n",
        "Este notebook muestra cómo crear una app interactiva usando Bokeh\n",
        "con datos del Superstore dataset y datos sintéticos."
      ],
      "metadata": {
        "id": "KnoVGUhQmCsP"
      }
    },
    {
      "cell_type": "code",
      "source": [
        "# 1. Importación de librerías necesarias\n",
        "import pandas as pd\n",
        "import numpy as np\n",
        "from datetime import datetime, timedelta"
      ],
      "metadata": {
        "id": "ms-aekOul7YQ"
      },
      "execution_count": null,
      "outputs": []
    },
    {
      "cell_type": "code",
      "source": [
        "# Importaciones específicas de Bokeh\n",
        "from bokeh.layouts import layout, row, column\n",
        "from bokeh.plotting import figure, show\n",
        "from bokeh.io import output_notebook\n",
        "from bokeh.models import ColumnDataSource, ColorBar, HoverTool\n",
        "from bokeh.transform import factor_cmap, cumsum\n",
        "from bokeh.palettes import Spectral6\n",
        "from bokeh.models import CustomJS, Select, ColumnDataSource\n",
        "from bokeh.plotting import figure, show\n",
        "from bokeh.layouts import column, row\n",
        "import math"
      ],
      "metadata": {
        "id": "x9Xg2xJTl7eI"
      },
      "execution_count": null,
      "outputs": []
    },
    {
      "cell_type": "code",
      "source": [
        "# Activar visualización en el notebook\n",
        "output_notebook()"
      ],
      "metadata": {
        "id": "2UZ-Byh5mH9v"
      },
      "execution_count": null,
      "outputs": []
    },
    {
      "cell_type": "code",
      "source": [
        "# 2. Carga y preparación de datos\n",
        "# ------------------------------\n",
        "# Cargar el dataset de Superstore\n",
        "print(\"Cargando datos...\")\n",
        "df = pd.read_excel('/content/Sample - Superstore.xls')\n",
        "print(\"Dataset cargado exitosamente!\")"
      ],
      "metadata": {
        "id": "A79PqRuOl7hU"
      },
      "execution_count": null,
      "outputs": []
    },
    {
      "cell_type": "code",
      "source": [
        "# Crear fuentes de datos separadas para cada año\n",
        "sources = {}\n",
        "for year in df['Year'].unique():\n",
        "    year_data = df[df['Year'] == year]\n",
        "    sources[str(year)] = ColumnDataSource(year_data)\n",
        "\n",
        "# Fuente actual\n",
        "current_source = ColumnDataSource(df[df['Year'] == df['Year'].min()])\n",
        "\n",
        "# Crear gráficos\n",
        "p1 = figure(x_range=df['Category'].unique(), height=400, title=\"Ventas por Categoría\")\n",
        "p1.vbar(x='Category', top='Sales', width=0.9, source=current_source)\n",
        "\n",
        "p2 = figure(height=400, title=\"Profit vs Sales\")\n",
        "p2.scatter('Sales', 'Profit', source=current_source)\n",
        "\n",
        "# Crear selector\n",
        "year_select = Select(\n",
        "    title=\"Año:\",\n",
        "    value=str(df['Year'].min()),\n",
        "    options=[str(year) for year in sorted(df['Year'].unique())]\n",
        ")\n",
        "\n",
        "# Callback en JavaScript\n",
        "callback = CustomJS(\n",
        "    args=dict(sources=sources, current_source=current_source),\n",
        "    code=\"\"\"\n",
        "    const year = cb_obj.value;\n",
        "    const new_data = sources[year].data;\n",
        "    current_source.data = new_data;\n",
        "    \"\"\"\n",
        ")\n",
        "\n",
        "year_select.js_on_change('value', callback)\n",
        "\n",
        "# Mostrar dashboard\n",
        "show(column(year_select, row(p1, p2)))"
      ],
      "metadata": {
        "id": "mN0nCvyUl7j-"
      },
      "execution_count": null,
      "outputs": []
    },
    {
      "cell_type": "markdown",
      "source": [
        "Crea ahora tu propia app"
      ],
      "metadata": {
        "id": "o1NwD7a9m8wJ"
      }
    },
    {
      "cell_type": "code",
      "source": [],
      "metadata": {
        "id": "8bdJZCNel7pw"
      },
      "execution_count": null,
      "outputs": []
    },
    {
      "cell_type": "code",
      "source": [],
      "metadata": {
        "id": "d_clekljl7sr"
      },
      "execution_count": null,
      "outputs": []
    }
  ]
}