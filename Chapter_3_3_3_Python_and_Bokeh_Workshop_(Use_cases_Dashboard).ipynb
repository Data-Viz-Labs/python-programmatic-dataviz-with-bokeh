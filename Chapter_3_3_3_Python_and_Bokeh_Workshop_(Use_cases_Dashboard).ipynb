{
  "nbformat": 4,
  "nbformat_minor": 0,
  "metadata": {
    "colab": {
      "provenance": []
    },
    "kernelspec": {
      "name": "python3",
      "display_name": "Python 3"
    },
    "language_info": {
      "name": "python"
    }
  },
  "cells": [
    {
      "cell_type": "markdown",
      "source": [
        "Dashboard Tutorial con Bokeh\n",
        "==========================\n",
        "Este notebook muestra cómo crear un dashboard interactivo usando Bokeh\n",
        "con datos del Superstore dataset y datos sintéticos."
      ],
      "metadata": {
        "id": "x1vO6MemgCji"
      }
    },
    {
      "cell_type": "code",
      "execution_count": null,
      "metadata": {
        "id": "gZTv6gdNf4dQ"
      },
      "outputs": [],
      "source": [
        "# 1. Importación de librerías necesarias\n",
        "import pandas as pd\n",
        "import numpy as np\n",
        "from datetime import datetime, timedelta"
      ]
    },
    {
      "cell_type": "code",
      "source": [
        "# Importaciones específicas de Bokeh\n",
        "from bokeh.layouts import layout, row, column\n",
        "from bokeh.plotting import figure, show\n",
        "from bokeh.io import output_notebook\n",
        "from bokeh.models import ColumnDataSource, ColorBar, HoverTool\n",
        "from bokeh.transform import factor_cmap, cumsum\n",
        "from bokeh.palettes import Spectral6\n",
        "import math"
      ],
      "metadata": {
        "id": "J08DQrtmf_B5"
      },
      "execution_count": null,
      "outputs": []
    },
    {
      "cell_type": "code",
      "source": [
        "# Activar visualización en el notebook\n",
        "output_notebook()"
      ],
      "metadata": {
        "id": "8r21tbV5f_Eg"
      },
      "execution_count": null,
      "outputs": []
    },
    {
      "cell_type": "markdown",
      "source": [
        "✋✋✋✋✋✋✋✋✋✋✋✋✋✋✋✋\n",
        "\n",
        "BEFORE RUN THE NEXT CELL, please upload the dataset to files section or update the path\n",
        "\n",
        "✋✋✋✋✋✋✋✋✋✋✋✋✋✋✋✋"
      ],
      "metadata": {
        "id": "AhmWp7wwXNgB"
      }
    },
    {
      "cell_type": "code",
      "source": [
        "# 2. Carga y preparación de datos\n",
        "# ------------------------------\n",
        "# Cargar el dataset de Superstore\n",
        "print(\"Cargando datos...\")\n",
        "df = pd.read_excel('/content/Sample - Superstore.xls')\n",
        "print(\"Dataset cargado exitosamente!\")"
      ],
      "metadata": {
        "id": "Kl1CqipQf_Ha"
      },
      "execution_count": null,
      "outputs": []
    },
    {
      "cell_type": "code",
      "source": [
        "# Crear algunos DataFrames agregados que necesitaremos\n",
        "ventas_categoria = df.groupby('Category')['Sales'].sum().reset_index()\n",
        "ventas_region = df.groupby('Region')['Sales'].sum().reset_index()\n",
        "top_productos = df.groupby('Product Name')['Sales'].sum().nlargest(10).reset_index()"
      ],
      "metadata": {
        "id": "-HQjlwdef_KI"
      },
      "execution_count": null,
      "outputs": []
    },
    {
      "cell_type": "code",
      "source": [
        "dates = pd.date_range(start='2023-01-01', end='2023-12-31', freq='D')\n",
        "np.random.seed(42)\n",
        "synthetic_df = pd.DataFrame({\n",
        "    'fecha': dates,\n",
        "    'valor': np.cumsum(np.random.randn(len(dates))) + 100,\n",
        "    'tendencia': np.linspace(0, 100, len(dates))\n",
        "})"
      ],
      "metadata": {
        "id": "hBuGqaXif_My"
      },
      "execution_count": null,
      "outputs": []
    },
    {
      "cell_type": "code",
      "source": [
        "def crear_grafico_barras():\n",
        "    from bokeh.plotting import figure\n",
        "\n",
        "    # Datos sintéticos\n",
        "    categorias = ['A', 'B', 'C', 'D']\n",
        "    valores = [100, 150, 75, 125]\n",
        "\n",
        "    # Crear el gráfico\n",
        "    p = figure(x_range=categorias, height=400, title=\"Ventas por Categoría\")\n",
        "    p.vbar(x=categorias, top=valores, width=0.9)\n",
        "\n",
        "    # Configuración básica\n",
        "    p.xgrid.grid_line_color = None\n",
        "    p.xaxis.axis_label = 'Categoría'\n",
        "    p.yaxis.axis_label = 'Ventas'\n",
        "\n",
        "    return p"
      ],
      "metadata": {
        "id": "_UOyyaeFf_PO"
      },
      "execution_count": null,
      "outputs": []
    },
    {
      "cell_type": "code",
      "source": [
        "def crear_grafico_circular():\n",
        "    from bokeh.plotting import figure\n",
        "    from bokeh.transform import cumsum\n",
        "    from math import pi\n",
        "\n",
        "    # Datos sintéticos\n",
        "    regiones = ['Norte', 'Sur', 'Este', 'Oeste']\n",
        "    valores = [35, 25, 20, 20]\n",
        "\n",
        "    # Calcular ángulos\n",
        "    angulos = [valor/sum(valores) * 2*pi for valor in valores]\n",
        "\n",
        "    # Crear el gráfico\n",
        "    p = figure(height=400, title=\"Distribución por Región\")\n",
        "    p.wedge(x=0, y=0, radius=0.9,\n",
        "            start_angle=cumsum('angle', include_zero=True),\n",
        "            end_angle=cumsum('angle'),\n",
        "            legend_field='region',\n",
        "            source=dict(\n",
        "                region=regiones,\n",
        "                angle=angulos\n",
        "            ))\n",
        "\n",
        "    p.axis.visible = False\n",
        "    p.grid.grid_line_color = None\n",
        "\n",
        "    return p"
      ],
      "metadata": {
        "id": "i3mCWbxggWNC"
      },
      "execution_count": null,
      "outputs": []
    },
    {
      "cell_type": "code",
      "source": [
        "def crear_grafico_barras_horizontal():\n",
        "    from bokeh.plotting import figure\n",
        "\n",
        "    # Datos sintéticos\n",
        "    productos = ['Prod A', 'Prod B', 'Prod C', 'Prod D', 'Prod E']\n",
        "    ventas = [450, 380, 310, 280, 220]\n",
        "\n",
        "    # Crear el gráfico\n",
        "    p = figure(y_range=productos, height=400, title=\"Top 5 Productos\")\n",
        "    p.hbar(y=productos, right=ventas, height=0.8)\n",
        "\n",
        "    # Configuración básica\n",
        "    p.xgrid.grid_line_color = None\n",
        "    p.xaxis.axis_label = 'Ventas'\n",
        "\n",
        "    return p"
      ],
      "metadata": {
        "id": "sX_dBqu2gWPy"
      },
      "execution_count": null,
      "outputs": []
    },
    {
      "cell_type": "code",
      "source": [
        "def crear_serie_temporal():\n",
        "    from bokeh.plotting import figure\n",
        "    import numpy as np\n",
        "    from datetime import datetime, timedelta\n",
        "\n",
        "    # Datos sintéticos\n",
        "    dias = 30\n",
        "    fechas = [datetime.now() + timedelta(days=x) for x in range(dias)]\n",
        "    valores = np.cumsum(np.random.randn(dias)) + 100\n",
        "\n",
        "    # Crear el gráfico\n",
        "    p = figure(height=300, width=800, title=\"Ventas Diarias\",\n",
        "              x_axis_type=\"datetime\")\n",
        "    p.line(fechas, valores, line_width=2)\n",
        "\n",
        "    # Configuración básica\n",
        "    p.xaxis.axis_label = 'Fecha'\n",
        "    p.yaxis.axis_label = 'Ventas'\n",
        "\n",
        "    return p"
      ],
      "metadata": {
        "id": "F8w-TzHRgWSk"
      },
      "execution_count": null,
      "outputs": []
    },
    {
      "cell_type": "code",
      "source": [
        "# Crear cada gráfico individual\n",
        "p1 = crear_grafico_barras()\n",
        "p2 = crear_grafico_circular()\n",
        "p3 = crear_grafico_barras_horizontal()\n",
        "p4 = crear_serie_temporal()\n",
        "\n",
        "# Crear el layout\n",
        "# Primera fila con tres gráficos\n",
        "row1 = row(p1, p2, p3)\n",
        "# Segunda fila con un gráfico que ocupa todo el ancho\n",
        "row2 = row(p4)\n",
        "\n",
        "# Combinar todo en un layout final\n",
        "dashboard = column(row1, row2)\n",
        "\n",
        "# Mostrar el dashboard\n",
        "show(dashboard)"
      ],
      "metadata": {
        "id": "7NlGkn4KgWV0"
      },
      "execution_count": null,
      "outputs": []
    },
    {
      "cell_type": "markdown",
      "source": [
        "Ahora actualiza las gráficas para que cumplan los siguientes criterios:\n",
        "\n",
        "\n",
        "* Utilicen datos del fichero excel cargado (Super Store)\n",
        "* Reemplaza o completa los gráficos para que aporten valor\n",
        "* Debe tener como mínimo 4 gráficas en un gridLayout\n",
        "\n"
      ],
      "metadata": {
        "id": "lKEYc5SAXmgZ"
      }
    },
    {
      "cell_type": "code",
      "source": [],
      "metadata": {
        "id": "fAS3ZXqhX67W"
      },
      "execution_count": null,
      "outputs": []
    }
  ]
}