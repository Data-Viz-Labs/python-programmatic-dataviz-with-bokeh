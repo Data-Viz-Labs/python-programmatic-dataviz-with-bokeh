{
  "nbformat": 4,
  "nbformat_minor": 0,
  "metadata": {
    "colab": {
      "provenance": []
    },
    "kernelspec": {
      "name": "python3",
      "display_name": "Python 3"
    },
    "language_info": {
      "name": "python"
    }
  },
  "cells": [
    {
      "cell_type": "markdown",
      "source": [
        "Dashboard Tutorial con Bokeh\n",
        "==========================\n",
        "Este notebook muestra cómo crear un gráfico que se actualiza en tiempo real."
      ],
      "metadata": {
        "id": "xW8f_FvgzyR5"
      }
    },
    {
      "cell_type": "code",
      "source": [
        "!pip freeze | grep -e bokeh"
      ],
      "metadata": {
        "id": "5g4gCocaxXMC"
      },
      "execution_count": null,
      "outputs": []
    },
    {
      "cell_type": "code",
      "source": [
        "import requests\n",
        "import numpy as np\n",
        "\n",
        "import time\n",
        "from datetime import datetime"
      ],
      "metadata": {
        "id": "FNlmvzHjznwc"
      },
      "execution_count": null,
      "outputs": []
    },
    {
      "cell_type": "code",
      "source": [
        "from bokeh.models.sources import ColumnDataSource\n",
        "from bokeh.plotting import figure\n",
        "from bokeh.io import output_notebook, show, push_notebook"
      ],
      "metadata": {
        "id": "-AYw5TnrznzF"
      },
      "execution_count": null,
      "outputs": []
    },
    {
      "cell_type": "code",
      "source": [
        "output_notebook()"
      ],
      "metadata": {
        "id": "tC8U3W8Hz4lN"
      },
      "execution_count": null,
      "outputs": []
    },
    {
      "cell_type": "code",
      "source": [
        "my_figure = figure(width=800, height=400)\n",
        "test_data = ColumnDataSource(data=dict(x=[0], y=[0]))\n",
        "line = my_figure.line(\"x\", \"y\", source=test_data)\n",
        "handle = show(my_figure, notebook_handle=True)"
      ],
      "metadata": {
        "id": "HvnpwCrKz4ny"
      },
      "execution_count": null,
      "outputs": []
    },
    {
      "cell_type": "code",
      "source": [
        "new_data=dict(x=[0], y=[0])\n",
        "x = []\n",
        "y = []\n",
        "\n",
        "step = 0\n",
        "step_size = 0.1  # increment for increasing step\n",
        "max_step = 100  # arbitrary stop point for example\n",
        "period = .1  # in seconds (simulate waiting for new data)\n",
        "n_show = 10  # number of points to keep and show"
      ],
      "metadata": {
        "id": "IfQYVpK2z4qo"
      },
      "execution_count": null,
      "outputs": []
    },
    {
      "cell_type": "code",
      "source": [
        "# Run\n",
        "while step < max_step:\n",
        "    x.append(step)\n",
        "    y.append(np.random.rand())\n",
        "    new_data['x'] = x = x[-n_show:]  # prevent filling ram\n",
        "    new_data['y'] = y = y[-n_show:]  # prevent filling ram\n",
        "\n",
        "    test_data.stream(new_data, n_show)\n",
        "\n",
        "    push_notebook(handle=handle)\n",
        "    step += step_size\n",
        "    time.sleep(period)"
      ],
      "metadata": {
        "id": "0hCkcVQJy3ls"
      },
      "execution_count": null,
      "outputs": []
    },
    {
      "cell_type": "code",
      "source": [],
      "metadata": {
        "id": "vUXQq5lOzn1z"
      },
      "execution_count": null,
      "outputs": []
    },
    {
      "cell_type": "code",
      "source": [],
      "metadata": {
        "id": "gRWaUhX-zn4L"
      },
      "execution_count": null,
      "outputs": []
    },
    {
      "cell_type": "markdown",
      "source": [
        "And now extend using a RT API like Finnhub"
      ],
      "metadata": {
        "id": "MbtDWuv40W0d"
      }
    },
    {
      "cell_type": "code",
      "source": [
        "# Obtain an API key at: https://www.finnhub.io/register\n",
        "FINNHUB_KEY = ''\n",
        "SYMBOL = 'AAPL'\n",
        "\n",
        "r = requests.get(f'https://finnhub.io/api/v1/quote?symbol={SYMBOL}&token={FINNHUB_KEY}')\n",
        "data = r.json()\n",
        "price = float(data['c'])  # current price\n",
        "now = datetime.now()\n",
        "source = ColumnDataSource(dict(time=[], price=[]))\n",
        "\n",
        "data"
      ],
      "metadata": {
        "id": "ssQGUwfhyc9o"
      },
      "execution_count": null,
      "outputs": []
    }
  ]
}